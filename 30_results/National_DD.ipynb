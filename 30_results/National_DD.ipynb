{
 "cells": [
  {
   "cell_type": "markdown",
   "metadata": {},
   "source": [
    "# Difference & Difference Analysis\n",
    "## National Voter Turnout"
   ]
  },
  {
   "cell_type": "code",
   "execution_count": 14,
   "metadata": {},
   "outputs": [],
   "source": [
    "import pandas as pd\n",
    "import numpy as np\n",
    "import matplotlib.pyplot as plt"
   ]
  },
  {
   "cell_type": "code",
   "execution_count": 15,
   "metadata": {},
   "outputs": [],
   "source": [
    "# Load Data\n",
    "turnout = pd.read_csv('../20_intermediate_files/turnout_v3.csv', index_col=0)"
   ]
  },
  {
   "cell_type": "markdown",
   "metadata": {},
   "source": [
    "### Difference in Difference Analysis"
   ]
  },
  {
   "cell_type": "code",
   "execution_count": 16,
   "metadata": {},
   "outputs": [
    {
     "data": {
      "text/html": [
       "<div>\n",
       "<style scoped>\n",
       "    .dataframe tbody tr th:only-of-type {\n",
       "        vertical-align: middle;\n",
       "    }\n",
       "\n",
       "    .dataframe tbody tr th {\n",
       "        vertical-align: top;\n",
       "    }\n",
       "\n",
       "    .dataframe thead tr th {\n",
       "        text-align: left;\n",
       "    }\n",
       "\n",
       "    .dataframe thead tr:last-of-type th {\n",
       "        text-align: right;\n",
       "    }\n",
       "</style>\n",
       "<table border=\"1\" class=\"dataframe\">\n",
       "  <thead>\n",
       "    <tr>\n",
       "      <th></th>\n",
       "      <th></th>\n",
       "      <th colspan=\"2\" halign=\"left\">VEP_Counted_D</th>\n",
       "    </tr>\n",
       "    <tr>\n",
       "      <th></th>\n",
       "      <th></th>\n",
       "      <th>count</th>\n",
       "      <th>mean</th>\n",
       "    </tr>\n",
       "    <tr>\n",
       "      <th>treatment</th>\n",
       "      <th>Year</th>\n",
       "      <th></th>\n",
       "      <th></th>\n",
       "    </tr>\n",
       "  </thead>\n",
       "  <tbody>\n",
       "    <tr>\n",
       "      <td rowspan=\"3\" valign=\"top\">0</td>\n",
       "      <td>2008</td>\n",
       "      <td>20</td>\n",
       "      <td>0.165213</td>\n",
       "    </tr>\n",
       "    <tr>\n",
       "      <td>2016</td>\n",
       "      <td>20</td>\n",
       "      <td>0.122056</td>\n",
       "    </tr>\n",
       "    <tr>\n",
       "      <td>2020</td>\n",
       "      <td>20</td>\n",
       "      <td>0.143865</td>\n",
       "    </tr>\n",
       "    <tr>\n",
       "      <td rowspan=\"3\" valign=\"top\">1</td>\n",
       "      <td>2008</td>\n",
       "      <td>4</td>\n",
       "      <td>0.072260</td>\n",
       "    </tr>\n",
       "    <tr>\n",
       "      <td>2016</td>\n",
       "      <td>4</td>\n",
       "      <td>0.043136</td>\n",
       "    </tr>\n",
       "    <tr>\n",
       "      <td>2020</td>\n",
       "      <td>4</td>\n",
       "      <td>0.221915</td>\n",
       "    </tr>\n",
       "  </tbody>\n",
       "</table>\n",
       "</div>"
      ],
      "text/plain": [
       "               VEP_Counted_D          \n",
       "                       count      mean\n",
       "treatment Year                        \n",
       "0         2008            20  0.165213\n",
       "          2016            20  0.122056\n",
       "          2020            20  0.143865\n",
       "1         2008             4  0.072260\n",
       "          2016             4  0.043136\n",
       "          2020             4  0.221915"
      ]
     },
     "execution_count": 16,
     "metadata": {},
     "output_type": "execute_result"
    }
   ],
   "source": [
    "# Number of states and mean voter turnout in each year-treatment group\n",
    "( \n",
    "    turnout\n",
    "    .filter(items=['treatment', 'Year', 'VEP_Counted_D'])\n",
    "    .groupby(['treatment', 'Year'])\n",
    "    .agg(['count','mean'])\n",
    ")"
   ]
  },
  {
   "cell_type": "code",
   "execution_count": 17,
   "metadata": {},
   "outputs": [
    {
     "data": {
      "image/png": "[encoded data removed]",
      "text/plain": [
       "<Figure size 432x288 with 1 Axes>"
      ]
     },
     "metadata": {
      "needs_background": "light"
     },
     "output_type": "display_data"
    }
   ],
   "source": [
    "# Voter primary turnout trends from 2008-2020\n",
    "tbl = ( \n",
    "    turnout\n",
    "    .filter(items=['treatment', 'Year', 'VEP_Counted_D'])\n",
    "    .groupby(['treatment', 'Year'])\n",
    "    .agg('mean')\n",
    ")\n",
    "\n",
    "plt.plot(tbl.loc[0], label = \"Control\")\n",
    "plt.plot(tbl.loc[1], label = \"Treatment\")\n",
    "plt.title('Voter Turnout 2008-2020')\n",
    "plt.legend(loc='lower right')\n",
    "plt.xlabel('Year')\n",
    "plt.ylabel('% Voter Turnout')\n",
    "plt.axvline(x=2018, color='grey', linestyle=':')\n",
    "plt.ylim(0, .25)\n",
    "plt.show()"
   ]
  },
  {
   "cell_type": "code",
   "execution_count": 18,
   "metadata": {},
   "outputs": [],
   "source": [
    "def custom_format(x):\n",
    "    '''Formats a string as a number and rounds to the 3rd decimal place'''\n",
    "    return round(float(x),3)"
   ]
  },
  {
   "cell_type": "code",
   "execution_count": 19,
   "metadata": {},
   "outputs": [
    {
     "name": "stdout",
     "output_type": "stream",
     "text": [
      "Voter turnout % delta for group 0: 0.022\n",
      "Voter turnout % delta for group 1: 0.179\n",
      "\n",
      "The causal effect for primary format elections is 0.157\n"
     ]
    }
   ],
   "source": [
    "# Casual effect\n",
    "for group in [0,1]:\n",
    "    print(f'Voter turnout % delta for group {group}: {custom_format(tbl.loc[group].loc[2020] - tbl.loc[group].loc[2016])}')\n",
    "    \n",
    "print(f'\\nThe causal effect for primary format elections is {custom_format((tbl.loc[1].loc[2020] - tbl.loc[1].loc[2016]) - (tbl.loc[0].loc[2020] - tbl.loc[0].loc[2016]))}')"
   ]
  },
  {
   "cell_type": "code",
   "execution_count": null,
   "metadata": {},
   "outputs": [],
   "source": []
  }
 ],
 "metadata": {
  "kernelspec": {
   "display_name": "Python 3",
   "language": "python",
   "name": "python3"
  },
  "language_info": {
   "codemirror_mode": {
    "name": "ipython",
    "version": 3
   },
   "file_extension": ".py",
   "mimetype": "text/x-python",
   "name": "python",
   "nbconvert_exporter": "python",
   "pygments_lexer": "ipython3",
   "version": "3.7.4"
  }
 },
 "nbformat": 4,
 "nbformat_minor": 2
}
