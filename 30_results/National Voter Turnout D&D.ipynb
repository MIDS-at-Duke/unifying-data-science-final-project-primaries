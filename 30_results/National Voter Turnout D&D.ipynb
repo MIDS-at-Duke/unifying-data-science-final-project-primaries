{
 "cells": [
  {
   "cell_type": "markdown",
   "metadata": {},
   "source": [
    "# Difference & Difference Analysis\n",
    "## National Voter Turnout"
   ]
  },
  {
   "cell_type": "code",
   "execution_count": 1,
   "metadata": {},
   "outputs": [],
   "source": [
    "import pandas as pd\n",
    "import numpy as np\n",
    "import matplotlib.pyplot as plt"
   ]
  },
  {
   "cell_type": "code",
   "execution_count": 2,
   "metadata": {},
   "outputs": [],
   "source": [
    "# Load Data\n",
    "turnout = pd.read_csv('../20_intermediate_files/turnout_v3.csv', \n",
    "                      index_col=0)"
   ]
  },
  {
   "cell_type": "markdown",
   "metadata": {},
   "source": [
    "### Difference in Difference Analysis"
   ]
  },
  {
   "cell_type": "code",
   "execution_count": 3,
   "metadata": {},
   "outputs": [
    {
     "data": {
      "text/html": [
       "<div>\n",
       "<style scoped>\n",
       "    .dataframe tbody tr th:only-of-type {\n",
       "        vertical-align: middle;\n",
       "    }\n",
       "\n",
       "    .dataframe tbody tr th {\n",
       "        vertical-align: top;\n",
       "    }\n",
       "\n",
       "    .dataframe thead tr th {\n",
       "        text-align: left;\n",
       "    }\n",
       "\n",
       "    .dataframe thead tr:last-of-type th {\n",
       "        text-align: right;\n",
       "    }\n",
       "</style>\n",
       "<table border=\"1\" class=\"dataframe\">\n",
       "  <thead>\n",
       "    <tr>\n",
       "      <th></th>\n",
       "      <th></th>\n",
       "      <th colspan=\"2\" halign=\"left\">VEP_Counted</th>\n",
       "    </tr>\n",
       "    <tr>\n",
       "      <th></th>\n",
       "      <th></th>\n",
       "      <th>count</th>\n",
       "      <th>mean</th>\n",
       "    </tr>\n",
       "    <tr>\n",
       "      <th>treatment</th>\n",
       "      <th>Year</th>\n",
       "      <th></th>\n",
       "      <th></th>\n",
       "    </tr>\n",
       "  </thead>\n",
       "  <tbody>\n",
       "    <tr>\n",
       "      <td rowspan=\"4\" valign=\"top\">0</td>\n",
       "      <td>2008</td>\n",
       "      <td>46</td>\n",
       "      <td>27.939130</td>\n",
       "    </tr>\n",
       "    <tr>\n",
       "      <td>2012</td>\n",
       "      <td>43</td>\n",
       "      <td>14.125581</td>\n",
       "    </tr>\n",
       "    <tr>\n",
       "      <td>2016</td>\n",
       "      <td>42</td>\n",
       "      <td>27.790476</td>\n",
       "    </tr>\n",
       "    <tr>\n",
       "      <td>2020</td>\n",
       "      <td>21</td>\n",
       "      <td>22.809524</td>\n",
       "    </tr>\n",
       "    <tr>\n",
       "      <td rowspan=\"4\" valign=\"top\">1</td>\n",
       "      <td>2008</td>\n",
       "      <td>4</td>\n",
       "      <td>5.150000</td>\n",
       "    </tr>\n",
       "    <tr>\n",
       "      <td>2012</td>\n",
       "      <td>9</td>\n",
       "      <td>3.400000</td>\n",
       "    </tr>\n",
       "    <tr>\n",
       "      <td>2016</td>\n",
       "      <td>7</td>\n",
       "      <td>11.342857</td>\n",
       "    </tr>\n",
       "    <tr>\n",
       "      <td>2020</td>\n",
       "      <td>5</td>\n",
       "      <td>30.740000</td>\n",
       "    </tr>\n",
       "  </tbody>\n",
       "</table>\n",
       "</div>"
      ],
      "text/plain": [
       "               VEP_Counted           \n",
       "                     count       mean\n",
       "treatment Year                       \n",
       "0         2008          46  27.939130\n",
       "          2012          43  14.125581\n",
       "          2016          42  27.790476\n",
       "          2020          21  22.809524\n",
       "1         2008           4   5.150000\n",
       "          2012           9   3.400000\n",
       "          2016           7  11.342857\n",
       "          2020           5  30.740000"
      ]
     },
     "execution_count": 3,
     "metadata": {},
     "output_type": "execute_result"
    }
   ],
   "source": [
    "# Number of states and mean voter turnout in each year-treatment group\n",
    "( \n",
    "    turnout\n",
    "    .filter(items=['treatment', 'Year', 'VEP_Counted'])\n",
    "    .groupby(['treatment', 'Year'])\n",
    "    .agg(['count','mean'])\n",
    ")"
   ]
  },
  {
   "cell_type": "code",
   "execution_count": 4,
   "metadata": {},
   "outputs": [
    {
     "data": {
      "image/png": "[encoded data removed]",
      "text/plain": [
       "<Figure size 432x288 with 1 Axes>"
      ]
     },
     "metadata": {
      "needs_background": "light"
     },
     "output_type": "display_data"
    }
   ],
   "source": [
    "# Voter primary turnout trends from 2008-2020\n",
    "tbl = ( \n",
    "    turnout\n",
    "    .filter(items=['treatment', 'Year', 'VEP_Counted'])\n",
    "    .groupby(['treatment', 'Year'])\n",
    "    .agg('mean')\n",
    ")\n",
    "\n",
    "plt.plot(tbl.loc[0], label = \"Control\")\n",
    "plt.plot(tbl.loc[1], label = \"Treatment\")\n",
    "plt.title('Voter Turnout 2008-2020')\n",
    "plt.legend()\n",
    "plt.xlabel('Year')\n",
    "plt.ylabel('% Voter Turnout')\n",
    "plt.axvline(x=2018, color='grey', linestyle=':')\n",
    "plt.show()"
   ]
  },
  {
   "cell_type": "code",
   "execution_count": 5,
   "metadata": {},
   "outputs": [],
   "source": [
    "# Custom format number\n",
    "def custom_format(x):\n",
    "    return round(float(x),1)"
   ]
  },
  {
   "cell_type": "code",
   "execution_count": 6,
   "metadata": {},
   "outputs": [
    {
     "name": "stdout",
     "output_type": "stream",
     "text": [
      "Voter turnout % delta for group 0: -5.0\n",
      "Voter turnout % delta for group 1: 19.4\n",
      "\n",
      "The causal effect for primary format elections is 24.4\n"
     ]
    }
   ],
   "source": [
    "# Casual effect\n",
    "for group in [0,1]:\n",
    "    print(f'Voter turnout % delta for group {group}: {custom_format(tbl.loc[group].loc[2020] - tbl.loc[group].loc[2016])}')\n",
    "    \n",
    "print(f'\\nThe causal effect for primary format elections is {custom_format((tbl.loc[1].loc[2020] - tbl.loc[1].loc[2016]) - (tbl.loc[0].loc[2020] - tbl.loc[0].loc[2016]))}')"
   ]
  }
 ],
 "metadata": {
  "kernelspec": {
   "display_name": "Python 3",
   "language": "python",
   "name": "python3"
  },
  "language_info": {
   "codemirror_mode": {
    "name": "ipython",
    "version": 3
   },
   "file_extension": ".py",
   "mimetype": "text/x-python",
   "name": "python",
   "nbconvert_exporter": "python",
   "pygments_lexer": "ipython3",
   "version": "3.7.4"
  }
 },
 "nbformat": 4,
 "nbformat_minor": 2
}
